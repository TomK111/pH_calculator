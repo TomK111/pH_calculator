{
 "cells": [
  {
   "cell_type": "code",
   "execution_count": 171,
   "id": "55bf59c4",
   "metadata": {},
   "outputs": [],
   "source": [
    "import math"
   ]
  },
  {
   "cell_type": "code",
   "execution_count": 172,
   "id": "73e0efa5",
   "metadata": {},
   "outputs": [
    {
     "name": "stdout",
     "output_type": "stream",
     "text": [
      "This solution is acidic ---> 3.301029995663981\n"
     ]
    }
   ],
   "source": [
    "def ph(conc):    \n",
    "    pH = -math.log(conc, 10)\n",
    "    return pH\n",
    "\n",
    "value=float(input(\"Enter Concentration: \"))    \n",
    "ph(value)\n",
    "\n",
    "if(value >= 7.0):\n",
    "    print(f\"This solution is basic ---> {ph(value)}\")\n",
    "\n",
    "if (value < 7.0):\n",
    "    print(f\"This solution is acidic ---> {ph(value)}\")"
   ]
  },
  {
   "cell_type": "code",
   "execution_count": null,
   "id": "101c49f2",
   "metadata": {},
   "outputs": [],
   "source": []
  },
  {
   "cell_type": "code",
   "execution_count": null,
   "id": "d2980c37",
   "metadata": {},
   "outputs": [],
   "source": []
  }
 ],
 "metadata": {
  "kernelspec": {
   "display_name": "Python 3 (ipykernel)",
   "language": "python",
   "name": "python3"
  },
  "language_info": {
   "codemirror_mode": {
    "name": "ipython",
    "version": 3
   },
   "file_extension": ".py",
   "mimetype": "text/x-python",
   "name": "python",
   "nbconvert_exporter": "python",
   "pygments_lexer": "ipython3",
   "version": "3.8.10"
  }
 },
 "nbformat": 4,
 "nbformat_minor": 5
}
